{
 "cells": [
  {
   "cell_type": "code",
   "execution_count": 3,
   "id": "9be951a2-dfa6-4508-8924-e002762f02ec",
   "metadata": {},
   "outputs": [
    {
     "name": "stdout",
     "output_type": "stream",
     "text": [
      "Available books:\n",
      "- Python Programming\n",
      "- Data Science\n",
      "- Machine Learning\n"
     ]
    },
    {
     "name": "stdin",
     "output_type": "stream",
     "text": [
      "Enter the name of the book to borrow:  math\n"
     ]
    },
    {
     "name": "stdout",
     "output_type": "stream",
     "text": [
      "Sorry, 'math' is not available.\n",
      "Available books:\n",
      "- Python Programming\n",
      "- Data Science\n",
      "- Machine Learning\n"
     ]
    },
    {
     "name": "stdin",
     "output_type": "stream",
     "text": [
      "Enter the name of the book to return:  Data Science\n"
     ]
    },
    {
     "name": "stdout",
     "output_type": "stream",
     "text": [
      "You have returned 'Data Science'.\n",
      "Available books:\n",
      "- Python Programming\n",
      "- Data Science\n",
      "- Machine Learning\n",
      "- Data Science\n"
     ]
    }
   ],
   "source": [
    "class Library:\n",
    "    def __init__(self, book_list):\n",
    "        self.__available_books = book_list\n",
    "\n",
    "    def display_books(self):\n",
    "        print(\"Available books:\")\n",
    "        for book in self.__available_books:\n",
    "            print(f\"- {book}\")\n",
    "\n",
    "    def borrow_book(self, book_name):\n",
    "        if book_name in self.__available_books:\n",
    "            self.__available_books.remove(book_name)\n",
    "            print(f\"You have borrowed '{book_name}'.\")\n",
    "        else:\n",
    "            print(f\"Sorry, '{book_name}' is not available.\")\n",
    "\n",
    "    def return_book(self, book_name):\n",
    "        self.__available_books.append(book_name)\n",
    "        print(f\"You have returned '{book_name}'.\")\n",
    "\n",
    "library = Library([\"Python Programming\", \"Data Science\", \"Machine Learning\"])\n",
    "\n",
    "library.display_books()\n",
    "\n",
    "borrow_book_name = input(\"Enter the name of the book to borrow: \")\n",
    "library.borrow_book(borrow_book_name)\n",
    "\n",
    "library.display_books()\n",
    "\n",
    "return_book_name = input(\"Enter the name of the book to return: \")\n",
    "library.return_book(return_book_name)\n",
    "\n",
    "library.display_books()\n"
   ]
  },
  {
   "cell_type": "code",
   "execution_count": null,
   "id": "70e4bd5f-9731-475b-9100-d31dc9d5fddf",
   "metadata": {},
   "outputs": [],
   "source": []
  }
 ],
 "metadata": {
  "kernelspec": {
   "display_name": "Python 3 (ipykernel)",
   "language": "python",
   "name": "python3"
  },
  "language_info": {
   "codemirror_mode": {
    "name": "ipython",
    "version": 3
   },
   "file_extension": ".py",
   "mimetype": "text/x-python",
   "name": "python",
   "nbconvert_exporter": "python",
   "pygments_lexer": "ipython3",
   "version": "3.12.4"
  }
 },
 "nbformat": 4,
 "nbformat_minor": 5
}
